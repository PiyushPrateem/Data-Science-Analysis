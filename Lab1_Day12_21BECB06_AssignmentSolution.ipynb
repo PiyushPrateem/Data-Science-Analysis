{
 "cells": [
  {
   "cell_type": "markdown",
   "id": "2afdd451",
   "metadata": {},
   "source": [
    "# 1.\tFirstly, replace all Missing values with relevant figures."
   ]
  },
  {
   "cell_type": "code",
   "execution_count": 1,
   "id": "d087a65e",
   "metadata": {},
   "outputs": [
    {
     "data": {
      "text/html": [
       "<div>\n",
       "<style scoped>\n",
       "    .dataframe tbody tr th:only-of-type {\n",
       "        vertical-align: middle;\n",
       "    }\n",
       "\n",
       "    .dataframe tbody tr th {\n",
       "        vertical-align: top;\n",
       "    }\n",
       "\n",
       "    .dataframe thead th {\n",
       "        text-align: right;\n",
       "    }\n",
       "</style>\n",
       "<table border=\"1\" class=\"dataframe\">\n",
       "  <thead>\n",
       "    <tr style=\"text-align: right;\">\n",
       "      <th></th>\n",
       "      <th>Pregnancies</th>\n",
       "      <th>Glucose</th>\n",
       "      <th>BloodPressure</th>\n",
       "      <th>BMI</th>\n",
       "      <th>DiabetesPedigreeFunction</th>\n",
       "      <th>Age</th>\n",
       "      <th>Outcome</th>\n",
       "    </tr>\n",
       "  </thead>\n",
       "  <tbody>\n",
       "    <tr>\n",
       "      <th>0</th>\n",
       "      <td>6</td>\n",
       "      <td>148</td>\n",
       "      <td>72</td>\n",
       "      <td>33.6</td>\n",
       "      <td>0.627</td>\n",
       "      <td>50</td>\n",
       "      <td>1</td>\n",
       "    </tr>\n",
       "    <tr>\n",
       "      <th>1</th>\n",
       "      <td>1</td>\n",
       "      <td>85</td>\n",
       "      <td>66</td>\n",
       "      <td>26.6</td>\n",
       "      <td>0.351</td>\n",
       "      <td>31</td>\n",
       "      <td>0</td>\n",
       "    </tr>\n",
       "    <tr>\n",
       "      <th>2</th>\n",
       "      <td>8</td>\n",
       "      <td>183</td>\n",
       "      <td>64</td>\n",
       "      <td>23.3</td>\n",
       "      <td>0.672</td>\n",
       "      <td>32</td>\n",
       "      <td>1</td>\n",
       "    </tr>\n",
       "    <tr>\n",
       "      <th>3</th>\n",
       "      <td>1</td>\n",
       "      <td>89</td>\n",
       "      <td>66</td>\n",
       "      <td>28.1</td>\n",
       "      <td>0.167</td>\n",
       "      <td>21</td>\n",
       "      <td>0</td>\n",
       "    </tr>\n",
       "    <tr>\n",
       "      <th>4</th>\n",
       "      <td>0</td>\n",
       "      <td>137</td>\n",
       "      <td>40</td>\n",
       "      <td>43.1</td>\n",
       "      <td>2.288</td>\n",
       "      <td>33</td>\n",
       "      <td>1</td>\n",
       "    </tr>\n",
       "  </tbody>\n",
       "</table>\n",
       "</div>"
      ],
      "text/plain": [
       "   Pregnancies  Glucose  BloodPressure   BMI  DiabetesPedigreeFunction  Age  \\\n",
       "0            6      148             72  33.6                     0.627   50   \n",
       "1            1       85             66  26.6                     0.351   31   \n",
       "2            8      183             64  23.3                     0.672   32   \n",
       "3            1       89             66  28.1                     0.167   21   \n",
       "4            0      137             40  43.1                     2.288   33   \n",
       "\n",
       "   Outcome  \n",
       "0        1  \n",
       "1        0  \n",
       "2        1  \n",
       "3        0  \n",
       "4        1  "
      ]
     },
     "metadata": {},
     "output_type": "display_data"
    },
    {
     "name": "stdout",
     "output_type": "stream",
     "text": [
      "<class 'pandas.core.frame.DataFrame'>\n",
      "RangeIndex: 768 entries, 0 to 767\n",
      "Data columns (total 7 columns):\n",
      " #   Column                    Non-Null Count  Dtype  \n",
      "---  ------                    --------------  -----  \n",
      " 0   Pregnancies               768 non-null    int64  \n",
      " 1   Glucose                   768 non-null    int64  \n",
      " 2   BloodPressure             768 non-null    int64  \n",
      " 3   BMI                       768 non-null    float64\n",
      " 4   DiabetesPedigreeFunction  768 non-null    float64\n",
      " 5   Age                       768 non-null    int64  \n",
      " 6   Outcome                   768 non-null    int64  \n",
      "dtypes: float64(2), int64(5)\n",
      "memory usage: 42.1 KB\n"
     ]
    },
    {
     "data": {
      "text/plain": [
       "None"
      ]
     },
     "metadata": {},
     "output_type": "display_data"
    }
   ],
   "source": [
    "import pandas as pd\n",
    "import numpy as np\n",
    "import seaborn as sns\n",
    "import matplotlib.pyplot as plt\n",
    "\n",
    "df=pd.read_csv(\"Dataset_Day11.csv\")\n",
    "\n",
    "display(df.head())\n",
    "display(df.info())"
   ]
  },
  {
   "cell_type": "code",
   "execution_count": 2,
   "id": "cedd8aa9",
   "metadata": {},
   "outputs": [
    {
     "name": "stdout",
     "output_type": "stream",
     "text": [
      "% of missing values in \n",
      "Glucose                     0.651042\n",
      "BloodPressure               4.557292\n",
      "BMI                         1.432292\n",
      "DiabetesPedigreeFunction    0.000000\n",
      "dtype: float64\n"
     ]
    }
   ],
   "source": [
    "#display missing values\n",
    "missing_values = (df[['Glucose','BloodPressure','BMI','DiabetesPedigreeFunction']] == 0).sum()\n",
    "print(\"% of missing values in \")\n",
    "print(missing_values/len(df)*100)"
   ]
  },
  {
   "cell_type": "markdown",
   "id": "7911e0f1",
   "metadata": {},
   "source": [
    "# 2.\tThen remove all existing outliers and get the final data for classification."
   ]
  },
  {
   "cell_type": "code",
   "execution_count": 3,
   "id": "48ddc39c",
   "metadata": {},
   "outputs": [
    {
     "name": "stdout",
     "output_type": "stream",
     "text": [
      "Original dataset shape: (768, 7)\n",
      "Cleaned dataset shape: (682, 7)\n"
     ]
    }
   ],
   "source": [
    "def remove_outliers(df,columns):\n",
    "    Q1= df[columns].quantile(0.25)\n",
    "    Q3= df[columns].quantile(0.75)\n",
    "    IQR= Q3 - Q1\n",
    "    df_clean = df[~((df[columns] < (Q1 - 1.5 * IQR)) |(df[columns] > (Q3 + 1.5 * IQR))).any(axis=1)]\n",
    "    return df_clean\n",
    "\n",
    "columns_to_check = ['Glucose', 'BloodPressure', 'BMI', 'DiabetesPedigreeFunction']\n",
    "data_clean = remove_outliers(df, columns_to_check)\n",
    "\n",
    "print(\"Original dataset shape:\", df.shape)\n",
    "print(\"Cleaned dataset shape:\", data_clean.shape)"
   ]
  },
  {
   "cell_type": "markdown",
   "id": "a0be90a8",
   "metadata": {},
   "source": [
    "# 3.\tSplit the data into 80% training and 20% testing data. Use target variable as ‘Outcome’.\n",
    "\n",
    "a.\tUse Naïve Bayes Classifier algorithm to classify Outcome and print the default model performance metrics: Accuracy, Precision, Recall, F1Score.\n"
   ]
  },
  {
   "cell_type": "code",
   "execution_count": 4,
   "id": "052a356b",
   "metadata": {},
   "outputs": [
    {
     "name": "stdout",
     "output_type": "stream",
     "text": [
      "Model Performance metrics are as below :-\n",
      "\n",
      "Accuracy is 0.7207792207792207\n",
      "Precision is 0.6190476190476191\n",
      "Recall is 0.49056603773584906\n",
      "F1-Score is 0.5473684210526316\n"
     ]
    }
   ],
   "source": [
    "import pandas as pd\n",
    "from sklearn.model_selection import train_test_split\n",
    "from sklearn.naive_bayes import GaussianNB\n",
    "from sklearn.metrics import accuracy_score, precision_score, recall_score, f1_score\n",
    "\n",
    "# Split the data into features and target variable\n",
    "X = df.drop(columns='Outcome')\n",
    "y = df['Outcome']\n",
    "\n",
    "# Split the data into training (80%) and testing (20%) sets\n",
    "X_train, X_test, y_train, y_test = train_test_split(X, y, test_size=0.2, random_state = 50)\n",
    "\n",
    "# Train a Naïve Bayes Classifier\n",
    "nb_model = GaussianNB()\n",
    "nb_model.fit(X_train, y_train)\n",
    "\n",
    "# Train a Naïve Bayes Classifier\n",
    "nb_model = GaussianNB()\n",
    "nb_model.fit(X_train, y_train)\n",
    "\n",
    "# Predict the outcomes for the testing set\n",
    "y_pred = nb_model.predict(X_test)\n",
    "\n",
    "# Calculate performance metrics\n",
    "accuracy = accuracy_score(y_test, y_pred)\n",
    "precision = precision_score(y_test, y_pred)\n",
    "recall = recall_score(y_test, y_pred)\n",
    "f1 = f1_score(y_test, y_pred)\n",
    "\n",
    "print(\"Model Performance metrics are as below :-\\n\")\n",
    "print(\"Accuracy is \"+str(accuracy_score(y_test,y_pred)))\n",
    "print(\"Precision is \"+str(precision_score(y_test,y_pred)))\n",
    "print(\"Recall is \"+str(recall_score(y_test,y_pred)))\n",
    "print(\"F1-Score is \"+str(f1_score(y_test,y_pred)))\n"
   ]
  },
  {
   "cell_type": "markdown",
   "id": "a96e54a9",
   "metadata": {},
   "source": [
    "# b.\tUse k-Fold Cross Validation to find the best model performance metrics."
   ]
  },
  {
   "cell_type": "code",
   "execution_count": 5,
   "id": "2c37a5d4",
   "metadata": {},
   "outputs": [
    {
     "name": "stdout",
     "output_type": "stream",
     "text": [
      "Model Performance metrics using k-Fold Cross Validation are as below :-\n",
      "\n",
      "Accuracy:  0.7591079972658921\n",
      "Precision:  0.674683679805119\n",
      "Recall:  0.6016692540826362\n",
      "F1-Score:  0.6326805000746251\n"
     ]
    }
   ],
   "source": [
    "from sklearn.model_selection import train_test_split, cross_val_score, cross_val_predict, KFold\n",
    "from sklearn.metrics import accuracy_score, precision_score, recall_score, f1_score\n",
    "from sklearn.naive_bayes import GaussianNB\n",
    "\n",
    "# Implement k-Fold Cross Validation\n",
    "kf = KFold(n_splits=10, shuffle=True, random_state=50)\n",
    "nb = GaussianNB()\n",
    "\n",
    "# Evaluate model performance using cross_val_score\n",
    "accuracy = cross_val_score(nb, X, y, cv=kf, scoring='accuracy')\n",
    "precision = cross_val_score(nb, X, y, cv=kf, scoring='precision')\n",
    "recall = cross_val_score(nb, X, y, cv=kf, scoring='recall')\n",
    "f1 = cross_val_score(nb, X, y, cv=kf, scoring='f1')\n",
    "\n",
    "print(\"Model Performance metrics using k-Fold Cross Validation are as below :-\\n\")\n",
    "print(\"Accuracy: \", accuracy.mean())\n",
    "print(\"Precision: \", precision.mean())\n",
    "print(\"Recall: \", recall.mean())\n",
    "print(\"F1-Score: \", f1.mean())"
   ]
  },
  {
   "cell_type": "markdown",
   "id": "516eccad",
   "metadata": {},
   "source": [
    "# OBSERVATIONS\n",
    "\n",
    "The model's performance using k-Fold Cross Validation shows a increase in all metrics compared to the earlier single run performance:\n",
    "\n",
    "->Accuracy: Rised  from 0.7207 to 0.7631\n",
    "\n",
    "->Precision: Rised from 0.6190 to 0.6768\n",
    "\n",
    "-> Recall: Rised from 0.4905 to 0.6311\n",
    "\n",
    "->F1-Score: Rised from 0.5473 to 0.6520\n",
    "    \n",
    "As their performance metrics increased by using k-cross validation, we can conclude that k-cross validation provides us a better performance as compared to Naive Bayes"
   ]
  },
  {
   "cell_type": "markdown",
   "id": "31fbf4a4",
   "metadata": {},
   "source": [
    "# c. Try out Adaboost algorithm for Naïve Bayes Classifier improvement. "
   ]
  },
  {
   "cell_type": "code",
   "execution_count": null,
   "id": "73eee56c",
   "metadata": {},
   "outputs": [],
   "source": []
  },
  {
   "cell_type": "code",
   "execution_count": 17,
   "id": "b926249d",
   "metadata": {},
   "outputs": [
    {
     "name": "stdout",
     "output_type": "stream",
     "text": [
      "Model Performance metrics using AdaBoost with Naive Bayes are as below :-\n",
      "\n",
      "Accuracy:  0.34415584415584416\n",
      "Precision:  0.34210526315789475\n",
      "Recall:  0.9811320754716981\n",
      "F1-Score:  0.5073170731707317\n"
     ]
    }
   ],
   "source": [
    "from sklearn.metrics import accuracy_score, precision_score, recall_score, f1_score\n",
    "from sklearn.naive_bayes import GaussianNB\n",
    "from sklearn.ensemble import AdaBoostClassifier\n",
    "\n",
    "# Apply AdaBoost with Naive Bayes\n",
    "base_estimator = GaussianNB()\n",
    "ada = AdaBoostClassifier(base_estimator = base_estimator, n_estimators = 22, random_state = 50)\n",
    "\n",
    "# Fit the model\n",
    "ada.fit(X_train, y_train)\n",
    "\n",
    "# Predict the test set results\n",
    "y_pred = ada.predict(X_test)\n",
    "\n",
    "# Evaluate model performance\n",
    "print(\"Model Performance metrics using AdaBoost with Naive Bayes are as below :-\\n\")\n",
    "print(\"Accuracy: \", accuracy_score(y_test, y_pred))\n",
    "print(\"Precision: \", precision_score(y_test, y_pred))\n",
    "print(\"Recall: \", recall_score(y_test, y_pred))\n",
    "print(\"F1-Score: \", f1_score(y_test, y_pred))"
   ]
  },
  {
   "cell_type": "code",
   "execution_count": null,
   "id": "2019d80e",
   "metadata": {},
   "outputs": [],
   "source": []
  },
  {
   "cell_type": "code",
   "execution_count": null,
   "id": "129a609e",
   "metadata": {},
   "outputs": [],
   "source": []
  }
 ],
 "metadata": {
  "kernelspec": {
   "display_name": "Python 3 (ipykernel)",
   "language": "python",
   "name": "python3"
  },
  "language_info": {
   "codemirror_mode": {
    "name": "ipython",
    "version": 3
   },
   "file_extension": ".py",
   "mimetype": "text/x-python",
   "name": "python",
   "nbconvert_exporter": "python",
   "pygments_lexer": "ipython3",
   "version": "3.9.12"
  }
 },
 "nbformat": 4,
 "nbformat_minor": 5
}
