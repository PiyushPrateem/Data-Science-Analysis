{
 "cells": [
  {
   "cell_type": "code",
   "execution_count": 9,
   "id": "90154b1d",
   "metadata": {},
   "outputs": [
    {
     "name": "stdout",
     "output_type": "stream",
     "text": [
      "Enter a number:0\n",
      "0 is not a prime number\n"
     ]
    }
   ],
   "source": [
    "#1.\tWrite a Python program to check if a given number is prime or not.\n",
    "num=int(input(\"Enter a number:\"))\n",
    "if num == 1:\n",
    "    print(num,\"is not a prime number\")\n",
    "elif num > 1:\n",
    "    for i in range(2,num):\n",
    "        if (num % i)== 0:\n",
    "            print(num,\"is not a prime number\")\n",
    "            break\n",
    "    else:\n",
    "        print(num,\"is a prime number\")\n",
    "else:\n",
    "    print(num,\"is not a prime number\")"
   ]
  },
  {
   "cell_type": "code",
   "execution_count": 11,
   "id": "e376e2e2",
   "metadata": {},
   "outputs": [
    {
     "name": "stdout",
     "output_type": "stream",
     "text": [
      "Enter a number below 50:- 5\n",
      "The factorial of 5 is 120\n"
     ]
    }
   ],
   "source": [
    "#2.\tWrite a function to input a number below 50 and print it’s factorial.\n",
    "def factorial(n):\n",
    "    if n == 1:\n",
    "        return 1\n",
    "    else:\n",
    "        return(n*factorial(n-1))\n",
    "    \n",
    "num=int(input(\"Enter a number below 50:- \"))\n",
    "\n",
    "if num < 0 or num >=50:\n",
    "        print(\"Enter a correct number below 50\")\n",
    "else:\n",
    "        print(\"The factorial of\",num,\"is\",factorial(num))"
   ]
  },
  {
   "cell_type": "code",
   "execution_count": 8,
   "id": "456523f6",
   "metadata": {
    "scrolled": true
   },
   "outputs": [
    {
     "name": "stdout",
     "output_type": "stream",
     "text": [
      "City counts: \n",
      "{'ï»¿\"cityName\"': 1, 'Agartala': 1, 'Ahmedabad': 43, 'AJMER': 2, 'ALIGARH': 4, 'AMBALA': 11, 'AMRITSAR': 39, 'BAGHPAT': 1, 'Bangalore': 37, 'Bhopal': 26, 'Bhubaneswar': 13, 'Chandigarh': 29, 'Chennai': 36, 'Dehradun': 17, 'Delhi and NCR': 432, 'GUNTUR': 4, 'Guwahati': 5, 'Hyderabad': 83, 'INDORE': 4, 'Jabalpur': 38, 'Jaipur': 74, 'JALANDHAR': 29, 'JAMMU': 2, 'JODHPUR': 12, 'Kanpur': 46, 'Kolkata': 39, 'KOTA': 2, 'Lucknow': 39, 'Meerut': 45, 'MORADABAD': 7, 'Mumbai': 70, 'Nagpur': 88, 'NELLORE': 4, 'Patna': 35, 'PONDICHERRY': 5, 'Prayagraj': 34, 'Pune': 65, 'RAIPUR': 6, 'Ranchi': 12, 'SAHARANPUR': 1, 'Shillong': 2, 'SILIGURI': 3, 'TRICHY': 1, 'VADODARA': 6, 'VARANASI': 18, 'VIJYAWADA': 1, 'Visakhapatnam': 28}\n"
     ]
    }
   ],
   "source": [
    "#3.\tFind the count of occurrence of each city in the dataset and create a dictionary such that the keys are the unique city names, and the values are their count of occurrence.\n",
    "import csv \n",
    "\n",
    "count={}\n",
    "\n",
    "with open('Dataset_Day1.csv','r') as f:\n",
    "    reader = csv.reader(f)\n",
    "    for row in reader: \n",
    "        city = row[0]\n",
    "        if city in count:\n",
    "            count[city]=count[city] + 1\n",
    "        else:\n",
    "            count[city] = 1\n",
    "print(\"City counts: \")\n",
    "print(count)"
   ]
  },
  {
   "cell_type": "code",
   "execution_count": 14,
   "id": "9777fcc2",
   "metadata": {},
   "outputs": [
    {
     "name": "stdout",
     "output_type": "stream",
     "text": [
      "Cities with at least one Apollo Hospital:\n",
      "{'Kanpur', 'Bangalore', 'Jaipur', 'Ahmedabad', 'Delhi and NCR'}\n"
     ]
    }
   ],
   "source": [
    "#4.\tCreate a set of all the cities with at-least one Apollo hospital.\n",
    "\n",
    "import csv\n",
    "\n",
    "cities = set()\n",
    "\n",
    "\n",
    "with open('Dataset_Day1.csv','r') as f:\n",
    "    reader = csv.reader(f)\n",
    "    for row in reader: \n",
    "        cname=row[0]\n",
    "        hname=row[1]\n",
    "        \n",
    "        if ('Apollo') in hname : \n",
    "            cities.add(cname)\n",
    "            \n",
    "print(\"Cities with at least one Apollo Hospital:\")\n",
    "print(cities)\n"
   ]
  },
  {
   "cell_type": "code",
   "execution_count": null,
   "id": "e08d9b9d",
   "metadata": {},
   "outputs": [],
   "source": []
  }
 ],
 "metadata": {
  "kernelspec": {
   "display_name": "Python 3 (ipykernel)",
   "language": "python",
   "name": "python3"
  },
  "language_info": {
   "codemirror_mode": {
    "name": "ipython",
    "version": 3
   },
   "file_extension": ".py",
   "mimetype": "text/x-python",
   "name": "python",
   "nbconvert_exporter": "python",
   "pygments_lexer": "ipython3",
   "version": "3.9.12"
  }
 },
 "nbformat": 4,
 "nbformat_minor": 5
}
