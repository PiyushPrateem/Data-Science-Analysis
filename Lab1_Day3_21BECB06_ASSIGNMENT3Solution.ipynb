{
 "cells": [
  {
   "cell_type": "code",
   "execution_count": 1,
   "id": "3dc8e9a6",
   "metadata": {},
   "outputs": [
    {
     "ename": "NameError",
     "evalue": "name 'data' is not defined",
     "output_type": "error",
     "traceback": [
      "\u001b[1;31m---------------------------------------------------------------------------\u001b[0m",
      "\u001b[1;31mNameError\u001b[0m                                 Traceback (most recent call last)",
      "Input \u001b[1;32mIn [1]\u001b[0m, in \u001b[0;36m<cell line: 7>\u001b[1;34m()\u001b[0m\n\u001b[0;32m      4\u001b[0m \u001b[38;5;28;01mimport\u001b[39;00m \u001b[38;5;21;01mnumpy\u001b[39;00m \u001b[38;5;28;01mas\u001b[39;00m \u001b[38;5;21;01mnp\u001b[39;00m\n\u001b[0;32m      6\u001b[0m \u001b[38;5;66;03m# Calculate the distance for each trip\u001b[39;00m\n\u001b[1;32m----> 7\u001b[0m data[\u001b[38;5;124m'\u001b[39m\u001b[38;5;124mdistance\u001b[39m\u001b[38;5;124m'\u001b[39m] \u001b[38;5;241m=\u001b[39m np\u001b[38;5;241m.\u001b[39msqrt((\u001b[43mdata\u001b[49m[\u001b[38;5;124m'\u001b[39m\u001b[38;5;124mdropoff_latitude\u001b[39m\u001b[38;5;124m'\u001b[39m] \u001b[38;5;241m-\u001b[39m data[\u001b[38;5;124m'\u001b[39m\u001b[38;5;124mpickup_latitude\u001b[39m\u001b[38;5;124m'\u001b[39m])\u001b[38;5;241m*\u001b[39m\u001b[38;5;241m*\u001b[39m\u001b[38;5;241m2\u001b[39m \u001b[38;5;241m+\u001b[39m \n\u001b[0;32m      8\u001b[0m                            (data[\u001b[38;5;124m'\u001b[39m\u001b[38;5;124mdropoff_longitude\u001b[39m\u001b[38;5;124m'\u001b[39m] \u001b[38;5;241m-\u001b[39m data[\u001b[38;5;124m'\u001b[39m\u001b[38;5;124mpickup_longitude\u001b[39m\u001b[38;5;124m'\u001b[39m])\u001b[38;5;241m*\u001b[39m\u001b[38;5;241m*\u001b[39m\u001b[38;5;241m2\u001b[39m)\n\u001b[0;32m     10\u001b[0m \u001b[38;5;66;03m# Display the first few rows to verify the new column\u001b[39;00m\n\u001b[0;32m     11\u001b[0m \u001b[38;5;28mprint\u001b[39m(data\u001b[38;5;241m.\u001b[39mhead())\n",
      "\u001b[1;31mNameError\u001b[0m: name 'data' is not defined"
     ]
    }
   ],
   "source": [
    "#\tUse the location coordinates to find the distance for each trip. Create a new column – ‘distance’ and store its value there. Use the following formula:\n",
    "\n",
    "import pandas as pd\n",
    "import numpy as np\n",
    "\n",
    "# Calculate the distance for each trip\n",
    "data['distance'] = np.sqrt((data['dropoff_latitude'] - data['pickup_latitude'])**2 + \n",
    "                           (data['dropoff_longitude'] - data['pickup_longitude'])**2)\n",
    "\n",
    "# Display the first few rows to verify the new column\n",
    "print(data.head())\n"
   ]
  },
  {
   "cell_type": "code",
   "execution_count": 24,
   "id": "b36b28dd",
   "metadata": {},
   "outputs": [],
   "source": [
    "#2.\tFind all the ‘key’ values for which the attributes: fare_amount & passenger_count & distance are outliers. Remove all rows with outliers.\n",
    "\n",
    "# Define a function to detect outliers using IQR\n",
    "def detect_outliers(df, column):\n",
    "    Q1 = df[column].quantile(0.25)\n",
    "    Q3 = df[column].quantile(0.75)\n",
    "    IQR = Q3 - Q1\n",
    "    lower_bound = Q1 - 1.5 * IQR\n",
    "    upper_bound = Q3 + 1.5 * IQR\n",
    "    return df[(df[column] < lower_bound) | (df[column] > upper_bound)]\n",
    "\n",
    "# Detect outliers in the specified columns\n",
    "outliers_fare = detect_outliers(data, 'fare_amount')\n",
    "outliers_passenger = detect_outliers(data, 'passenger_count')\n",
    "outliers_distance = detect_outliers(data, 'distance')\n",
    "\n",
    "# Combine all outliers into a single DataFrame\n",
    "all_outliers = pd.concat([outliers_fare, outliers_passenger, outliers_distance]).drop_duplicates()\n",
    "\n",
    "# Find the 'key' values of the outliers\n",
    "outlier_keys = all_outliers['key'].unique()\n",
    "\n",
    "# Remove rows with outliers\n",
    "cleaned_data = data[~data['key'].isin(outlier_keys)]\n"
   ]
  },
  {
   "cell_type": "code",
   "execution_count": 23,
   "id": "cf457bda",
   "metadata": {},
   "outputs": [
    {
     "data": {
      "image/png": "[encoded data removed]",
      "text/plain": [
       "<Figure size 576x288 with 1 Axes>"
      ]
     },
     "metadata": {
      "needs_background": "light"
     },
     "output_type": "display_data"
    }
   ],
   "source": [
    "#3.\tShow the scatterplot between distance & fare_amount. Is there any relationship that you can identify?\n",
    "\n",
    "import matplotlib.pyplot as plt\n",
    "\n",
    "# Create a scatterplot of distance vs fare amount\n",
    "plt.figure(figsize=(8,4))\n",
    "plt.scatter(data['distance'], data['fare_amount'])\n",
    "plt.title('Scatterplot of Distance vs Fare Amount')\n",
    "plt.xlabel('Distance')\n",
    "plt.ylabel('Fare Amount')\n",
    "plt.show()"
   ]
  },
  {
   "cell_type": "code",
   "execution_count": null,
   "id": "5ba5e546",
   "metadata": {},
   "outputs": [],
   "source": []
  }
 ],
 "metadata": {
  "kernelspec": {
   "display_name": "Python 3 (ipykernel)",
   "language": "python",
   "name": "python3"
  },
  "language_info": {
   "codemirror_mode": {
    "name": "ipython",
    "version": 3
   },
   "file_extension": ".py",
   "mimetype": "text/x-python",
   "name": "python",
   "nbconvert_exporter": "python",
   "pygments_lexer": "ipython3",
   "version": "3.9.12"
  }
 },
 "nbformat": 4,
 "nbformat_minor": 5
}
