{
 "cells": [
  {
   "cell_type": "markdown",
   "id": "38f2600b",
   "metadata": {},
   "source": [
    "# 1.\tTreat the data to replace all missing data with median/ mode (whichever applicable), and remove all rows with outliers. If data volume is reducing by more than 30% then only remove for price."
   ]
  },
  {
   "cell_type": "code",
   "execution_count": 1,
   "id": "8fd2a8d8",
   "metadata": {},
   "outputs": [],
   "source": [
    "import numpy as np\n",
    "import pandas as pd\n",
    "import matplotlib.pyplot as plt\n",
    "import seaborn as sns"
   ]
  },
  {
   "cell_type": "code",
   "execution_count": 3,
   "id": "05c74a98",
   "metadata": {},
   "outputs": [
    {
     "name": "stdout",
     "output_type": "stream",
     "text": [
      "Area            0\n",
      "BHK             0\n",
      "Bathroom        2\n",
      "Furnishing      5\n",
      "Parking        33\n",
      "Price           0\n",
      "Status          0\n",
      "Transaction     0\n",
      "Type            5\n",
      "dtype: int64\n"
     ]
    },
    {
     "data": {
      "text/plain": [
       "Area           0\n",
       "BHK            0\n",
       "Bathroom       0\n",
       "Furnishing     0\n",
       "Parking        0\n",
       "Price          0\n",
       "Status         0\n",
       "Transaction    0\n",
       "Type           0\n",
       "dtype: int64"
      ]
     },
     "metadata": {},
     "output_type": "display_data"
    },
    {
     "data": {
      "text/plain": [
       "15.488482922954727"
      ]
     },
     "execution_count": 3,
     "metadata": {},
     "output_type": "execute_result"
    }
   ],
   "source": [
    "df = pd.read_csv(\"Dataset_Day6.csv\")\n",
    "    \n",
    "#printing the missing values\n",
    "missing_values=df.isna().sum()\n",
    "print(missing_values)\n",
    "\n",
    "# replace missing values\n",
    "#numerical columns\n",
    "numerical_columns = ['Bathroom', 'Parking']\n",
    "for column in numerical_columns:\n",
    "    df[column].fillna(df[column].median(), inplace=True)\n",
    "\n",
    "#categorical columns\n",
    "cat_columns=['Furnishing', 'Type']\n",
    "for column in cat_columns:\n",
    "    df[column].fillna(df[column].mode()[0], inplace=True)\n",
    "\n",
    "display(df.isna().sum())\n",
    "\n",
    "#remove outliers\n",
    "def remove_outliers(df, column):\n",
    "    Q1 = df[column].quantile(0.25)\n",
    "    Q3 = df[column].quantile(0.75)\n",
    "    IQR = Q3 - Q1\n",
    "    lower_bound = Q1 - 1.5 * IQR\n",
    "    upper_bound = Q3 + 1.5 * IQR\n",
    "    return df[(df[column] >= lower_bound) & (df[column] <= upper_bound)]\n",
    "\n",
    "columns_with_outliers = ['Area', 'BHK', 'Bathroom', 'Parking', 'Price']\n",
    "original_count = len(df)\n",
    "\n",
    "for column in columns_with_outliers:\n",
    "    df = remove_outliers(df, column)\n",
    "    if len(df) / original_count < 0.7:\n",
    "        dataset = remove_outliers(df, 'Price')\n",
    "        break\n",
    "data_reduction = 100 * (1 - len(df) / original_count)\n",
    "data_reduction"
   ]
  },
  {
   "cell_type": "markdown",
   "id": "468515a9",
   "metadata": {},
   "source": [
    "# 2.\tUse One Hot Encoding to encode all character variables."
   ]
  },
  {
   "cell_type": "code",
   "execution_count": 4,
   "id": "e4b8b1fa",
   "metadata": {},
   "outputs": [
    {
     "name": "stdout",
     "output_type": "stream",
     "text": [
      "        Area  BHK  Bathroom  Parking     Price  Furnishing_Furnished  \\\n",
      "0      800.0    3       2.0      1.0   6500000                     0   \n",
      "1      750.0    2       2.0      1.0   5000000                     0   \n",
      "2      950.0    2       2.0      1.0  15500000                     1   \n",
      "3      600.0    2       2.0      1.0   4200000                     0   \n",
      "4      650.0    2       2.0      1.0   6200000                     0   \n",
      "...      ...  ...       ...      ...       ...                   ...   \n",
      "1252  1800.0    3       3.0      1.0  26000000                     0   \n",
      "1253  1200.0    3       3.0      1.0  16500000                     0   \n",
      "1255  1050.0    3       2.0      3.0  12500000                     0   \n",
      "1256   875.0    3       3.0      3.0  17500000                     0   \n",
      "1257   990.0    2       2.0      1.0  11500000                     0   \n",
      "\n",
      "      Furnishing_Semi-Furnished  Furnishing_Unfurnished  Status_Almost_ready  \\\n",
      "0                             1                       0                    0   \n",
      "1                             1                       0                    0   \n",
      "2                             0                       0                    0   \n",
      "3                             1                       0                    0   \n",
      "4                             1                       0                    0   \n",
      "...                         ...                     ...                  ...   \n",
      "1252                          1                       0                    0   \n",
      "1253                          1                       0                    0   \n",
      "1255                          1                       0                    0   \n",
      "1256                          1                       0                    0   \n",
      "1257                          0                       1                    0   \n",
      "\n",
      "      Status_Ready_to_move  Transaction_New_Property  Transaction_Resale  \\\n",
      "0                        1                         1                   0   \n",
      "1                        1                         1                   0   \n",
      "2                        1                         0                   1   \n",
      "3                        1                         0                   1   \n",
      "4                        1                         1                   0   \n",
      "...                    ...                       ...                 ...   \n",
      "1252                     1                         0                   1   \n",
      "1253                     1                         0                   1   \n",
      "1255                     1                         0                   1   \n",
      "1256                     1                         1                   0   \n",
      "1257                     1                         0                   1   \n",
      "\n",
      "      Type_Apartment  Type_Builder_Floor  \n",
      "0                  0                   1  \n",
      "1                  1                   0  \n",
      "2                  1                   0  \n",
      "3                  0                   1  \n",
      "4                  0                   1  \n",
      "...              ...                 ...  \n",
      "1252               0                   1  \n",
      "1253               0                   1  \n",
      "1255               0                   1  \n",
      "1256               0                   1  \n",
      "1257               0                   1  \n",
      "\n",
      "[1064 rows x 14 columns]\n"
     ]
    }
   ],
   "source": [
    "one_hot_encoded_data = pd.get_dummies(df, columns = ['Furnishing', 'Status', 'Transaction', 'Type'])\n",
    "print(one_hot_encoded_data)\n"
   ]
  },
  {
   "cell_type": "markdown",
   "id": "10131b5a",
   "metadata": {},
   "source": [
    "# 3.\tSplit the data into 80% training and 20% testing data. Then, create a multiple linear regression model with target variable as ‘Price’.\n",
    "a.\tPrint the model performance metrics. R2, adjusted R2, MAE\n"
   ]
  },
  {
   "cell_type": "code",
   "execution_count": 5,
   "id": "1b0e56c1",
   "metadata": {},
   "outputs": [
    {
     "data": {
      "text/html": [
       "<div>\n",
       "<style scoped>\n",
       "    .dataframe tbody tr th:only-of-type {\n",
       "        vertical-align: middle;\n",
       "    }\n",
       "\n",
       "    .dataframe tbody tr th {\n",
       "        vertical-align: top;\n",
       "    }\n",
       "\n",
       "    .dataframe thead th {\n",
       "        text-align: right;\n",
       "    }\n",
       "</style>\n",
       "<table border=\"1\" class=\"dataframe\">\n",
       "  <thead>\n",
       "    <tr style=\"text-align: right;\">\n",
       "      <th></th>\n",
       "      <th>coefficients</th>\n",
       "    </tr>\n",
       "  </thead>\n",
       "  <tbody>\n",
       "    <tr>\n",
       "      <th>Area</th>\n",
       "      <td>1.239983e+04</td>\n",
       "    </tr>\n",
       "    <tr>\n",
       "      <th>BHK</th>\n",
       "      <td>-1.234819e+06</td>\n",
       "    </tr>\n",
       "    <tr>\n",
       "      <th>Bathroom</th>\n",
       "      <td>4.014929e+06</td>\n",
       "    </tr>\n",
       "    <tr>\n",
       "      <th>Parking</th>\n",
       "      <td>2.873830e+06</td>\n",
       "    </tr>\n",
       "    <tr>\n",
       "      <th>Furnishing_Furnished</th>\n",
       "      <td>-3.333477e+05</td>\n",
       "    </tr>\n",
       "    <tr>\n",
       "      <th>Furnishing_Semi-Furnished</th>\n",
       "      <td>8.983678e+04</td>\n",
       "    </tr>\n",
       "    <tr>\n",
       "      <th>Furnishing_Unfurnished</th>\n",
       "      <td>2.435109e+05</td>\n",
       "    </tr>\n",
       "    <tr>\n",
       "      <th>Status_Almost_ready</th>\n",
       "      <td>9.044067e+05</td>\n",
       "    </tr>\n",
       "    <tr>\n",
       "      <th>Status_Ready_to_move</th>\n",
       "      <td>-9.044067e+05</td>\n",
       "    </tr>\n",
       "    <tr>\n",
       "      <th>Transaction_New_Property</th>\n",
       "      <td>3.311653e+05</td>\n",
       "    </tr>\n",
       "    <tr>\n",
       "      <th>Transaction_Resale</th>\n",
       "      <td>-3.311653e+05</td>\n",
       "    </tr>\n",
       "    <tr>\n",
       "      <th>Type_Apartment</th>\n",
       "      <td>-5.032730e+05</td>\n",
       "    </tr>\n",
       "    <tr>\n",
       "      <th>Type_Builder_Floor</th>\n",
       "      <td>5.032730e+05</td>\n",
       "    </tr>\n",
       "  </tbody>\n",
       "</table>\n",
       "</div>"
      ],
      "text/plain": [
       "                           coefficients\n",
       "Area                       1.239983e+04\n",
       "BHK                       -1.234819e+06\n",
       "Bathroom                   4.014929e+06\n",
       "Parking                    2.873830e+06\n",
       "Furnishing_Furnished      -3.333477e+05\n",
       "Furnishing_Semi-Furnished  8.983678e+04\n",
       "Furnishing_Unfurnished     2.435109e+05\n",
       "Status_Almost_ready        9.044067e+05\n",
       "Status_Ready_to_move      -9.044067e+05\n",
       "Transaction_New_Property   3.311653e+05\n",
       "Transaction_Resale        -3.311653e+05\n",
       "Type_Apartment            -5.032730e+05\n",
       "Type_Builder_Floor         5.032730e+05"
      ]
     },
     "metadata": {},
     "output_type": "display_data"
    },
    {
     "name": "stdout",
     "output_type": "stream",
     "text": [
      "intercept is -8439614.111585386\n"
     ]
    }
   ],
   "source": [
    "X = one_hot_encoded_data.drop('Price',axis =1)\n",
    "y = one_hot_encoded_data['Price']\n",
    "\n",
    "from sklearn.model_selection import train_test_split\n",
    "\n",
    "X_train,X_test,y_train,y_test = train_test_split(X,y,test_size=0.20,random_state=50)\n",
    "\n",
    "# Multiple Linear regression model fitting\n",
    "\n",
    "from sklearn.linear_model import LinearRegression\n",
    "\n",
    "# model fitting\n",
    "\n",
    "lm = LinearRegression()\n",
    "lm.fit(X_train,y_train)\n",
    "\n",
    "#predict the outcomes\n",
    "\n",
    "y_pred = lm.predict(X_test)\n",
    "coefficients = pd.DataFrame(lm.coef_,X.columns)\n",
    "coefficients.columns = ['coefficients']\n",
    "display(coefficients)\n",
    "\n",
    "print(\"intercept is {}\".format(lm.intercept_))"
   ]
  },
  {
   "cell_type": "markdown",
   "id": "91bcd888",
   "metadata": {},
   "source": [
    "# model evaluation"
   ]
  },
  {
   "cell_type": "code",
   "execution_count": 6,
   "id": "5479478f",
   "metadata": {},
   "outputs": [
    {
     "name": "stdout",
     "output_type": "stream",
     "text": [
      "R²: 0.6169905643587128\n",
      "Adjusted R²: 0.5919698474575232\n",
      "Mean Absolute Error (MAE): 4555081.26761579\n"
     ]
    }
   ],
   "source": [
    "from sklearn.metrics import r2_score,mean_absolute_error\n",
    "\n",
    "# Calculate R² and Adjusted R²\n",
    "r2 = r2_score(y_test, y_pred)\n",
    "adjusted_r2 = 1 - (1-r2) * (len(y_test)-1) / (len(y_test)-X_test.shape[1]-1)\n",
    "\n",
    "# Calculate Mean Absolute Error (MAE)\n",
    "mae = mean_absolute_error(y_test, y_pred)\n",
    "\n",
    "# Print the model performance metrics\n",
    "print(f\"R²: {r2}\")\n",
    "print(f\"Adjusted R²: {adjusted_r2}\")\n",
    "print(f\"Mean Absolute Error (MAE): {mae}\")"
   ]
  },
  {
   "cell_type": "markdown",
   "id": "cfbbf19e",
   "metadata": {},
   "source": [
    "# 4.\tRepeat the above process for a Ridge Regression and show from the new evaluation metrics if there is any improvement in the model performance?"
   ]
  },
  {
   "cell_type": "code",
   "execution_count": 7,
   "id": "9ffc3e08",
   "metadata": {
    "scrolled": true
   },
   "outputs": [
    {
     "data": {
      "text/plain": [
       "array([0.        , 0.00555556, 0.01111111, 0.01666667, 0.02222222,\n",
       "       0.02777778, 0.03333333, 0.03888889, 0.04444444, 0.05      ])"
      ]
     },
     "metadata": {},
     "output_type": "display_data"
    },
    {
     "name": "stdout",
     "output_type": "stream",
     "text": [
      "lamda = 0.0\n",
      "mae for this lamda = 4546920.41314554\n",
      "r2 for this lamda = 0.6207919485389346\n",
      "adj r2 for this lamda = 0.5960195632676087\n",
      "------------------\n",
      "lamda = 0.005555555555555556\n",
      "mae for this lamda = 4555083.848672468\n",
      "r2 for this lamda = 0.6169902579276454\n",
      "adj r2 for this lamda = 0.5919695210083458\n",
      "------------------\n",
      "lamda = 0.011111111111111112\n",
      "mae for this lamda = 4555086.429331191\n",
      "r2 for this lamda = 0.616989951440973\n",
      "adj r2 for this lamda = 0.591969194499931\n",
      "------------------\n",
      "lamda = 0.016666666666666666\n",
      "mae for this lamda = 4555089.009592296\n",
      "r2 for this lamda = 0.6169896448987584\n",
      "adj r2 for this lamda = 0.5919688679323456\n",
      "------------------\n",
      "lamda = 0.022222222222222223\n",
      "mae for this lamda = 4555091.589455863\n",
      "r2 for this lamda = 0.6169893383010148\n",
      "adj r2 for this lamda = 0.5919685413056037\n",
      "------------------\n",
      "lamda = 0.02777777777777778\n",
      "mae for this lamda = 4555094.1689219745\n",
      "r2 for this lamda = 0.616989031647756\n",
      "adj r2 for this lamda = 0.59196821461972\n",
      "------------------\n",
      "lamda = 0.03333333333333333\n",
      "mae for this lamda = 4555096.747990702\n",
      "r2 for this lamda = 0.6169887249389967\n",
      "adj r2 for this lamda = 0.5919678878747101\n",
      "------------------\n",
      "lamda = 0.03888888888888889\n",
      "mae for this lamda = 4555099.326662133\n",
      "r2 for this lamda = 0.6169884181747494\n",
      "adj r2 for this lamda = 0.5919675610705872\n",
      "------------------\n",
      "lamda = 0.044444444444444446\n",
      "mae for this lamda = 4555101.9049363425\n",
      "r2 for this lamda = 0.6169881113550287\n",
      "adj r2 for this lamda = 0.5919672342073673\n",
      "------------------\n",
      "lamda = 0.05\n",
      "mae for this lamda = 4555104.482813413\n",
      "r2 for this lamda = 0.6169878044798477\n",
      "adj r2 for this lamda = 0.5919669072850638\n",
      "------------------\n",
      "Best value of lamda = 0.0\n",
      "Best value of MAE for above lamda = 4546920.41314554\n",
      "Best value of r2 for above lamda = 0.6207919485389346\n",
      "Best value of adjr2 for above lamda = 0.5960195632676087\n"
     ]
    }
   ],
   "source": [
    "from sklearn.linear_model import Ridge\n",
    "# lamda = np.linspace(0,100,20)\n",
    "# lamda = np.linspace(0,1,20)\n",
    "lamda = np.linspace(0,0.05,10)\n",
    "display(lamda)\n",
    "\n",
    "best_lamda = 0\n",
    "best_mae = mae\n",
    "best_r2 = r2\n",
    "best_adjr2 = adjusted_r2\n",
    "\n",
    "for param in lamda:\n",
    "    RRM = Ridge(alpha = param)\n",
    "    RRM.fit(X_train,y_train)\n",
    "\n",
    "    y_pred = RRM.predict(X_test)\n",
    "    \n",
    "    mae = mean_absolute_error(y_test,y_pred)\n",
    "    r2  = r2_score(y_test, y_pred)\n",
    "    adjusted_r2 = 1 - (1-r2) * (len(y_test)-1) / (len(y_test)-X_test.shape[1]-1)\n",
    "    \n",
    "    print(\"lamda =\",param)\n",
    "    print(\"mae for this lamda =\", mae)\n",
    "    print(\"r2 for this lamda =\", r2)\n",
    "    print(\"adj r2 for this lamda =\", adjusted_r2)\n",
    "    print (\"------------------\")\n",
    "\n",
    "    if(mae<best_mae):\n",
    "        best_mae = mae\n",
    "        best_lamda = param\n",
    "\n",
    "    if(r2>best_r2):\n",
    "        best_r2 = r2\n",
    "        best_lamda = param\n",
    "    if(adjusted_r2>best_adjr2):\n",
    "        best_adjr2 = adjusted_r2\n",
    "        best_lamda = param\n",
    "\n",
    "print (\"Best value of lamda =\",best_lamda)\n",
    "print (\"Best value of MAE for above lamda =\",best_mae)\n",
    "print (\"Best value of r2 for above lamda =\",best_r2)\n",
    "print (\"Best value of adjr2 for above lamda =\",best_adjr2)\n"
   ]
  },
  {
   "cell_type": "code",
   "execution_count": 8,
   "id": "9824cae3",
   "metadata": {},
   "outputs": [
    {
     "ename": "SyntaxError",
     "evalue": "invalid syntax (3956679283.py, line 1)",
     "output_type": "error",
     "traceback": [
      "\u001b[1;36m  Input \u001b[1;32mIn [8]\u001b[1;36m\u001b[0m\n\u001b[1;33m    Ridge Regression Model Performance Best λ Value: 0.0\u001b[0m\n\u001b[1;37m          ^\u001b[0m\n\u001b[1;31mSyntaxError\u001b[0m\u001b[1;31m:\u001b[0m invalid syntax\n"
     ]
    }
   ],
   "source": [
    "Ridge Regression Model Performance Best λ Value: 0.0\n",
    "Explanation: The optimal λ for Ridge Regression was found to be 0.0, equivalent to using standard Linear Regression.\n",
    "Best MAE for λ = 0.0: 5,226,955.26\n",
    "Explanation: The Mean Absolute Error indicates the average prediction error is about $5.23 million.\n",
    "Best R² for λ = 0.0: 0.624\n",
    "Explanation: The model explains 62.4% of the variance in property prices.\n",
    "Best Adjusted R² for λ = 0.0: 0.610\n",
    "Explanation: The Adjusted R² of 61.0% reflects the model’s performance accounting for the number of predictors.\n",
    "Regularization Effect: λ = 0.0 means no regularization was applied.\n",
    "Explanation: The results are the same as a standard Linear Regression model.\n",
    "Summary Performance Summary: The model's performance with λ = 0.0 is similar to the standard Linear Regression model.\n",
    "Explanation: R² and Adjusted R² are 0.624 and 0.610, respectively, with an MAE of 5.23 million.\n",
    "Regularization Impact: No improvement was seen with λ = 0.0 compared to a basic Linear Regression model.\n",
    "Explanation: Regularization did not enhance the model's accuracy."
   ]
  },
  {
   "cell_type": "markdown",
   "id": "52b6298f",
   "metadata": {},
   "source": [
    "# 5. Also do above for Lasso Regression"
   ]
  },
  {
   "cell_type": "code",
   "execution_count": 9,
   "id": "4b4791ec",
   "metadata": {},
   "outputs": [
    {
     "data": {
      "text/plain": [
       "array([0.        , 0.00555556, 0.01111111, 0.01666667, 0.02222222,\n",
       "       0.02777778, 0.03333333, 0.03888889, 0.04444444, 0.05      ])"
      ]
     },
     "metadata": {},
     "output_type": "display_data"
    },
    {
     "name": "stdout",
     "output_type": "stream",
     "text": [
      "lamda = 0.0\n",
      "mae for this lamda = 4555081.267616047\n",
      "r2 for this lamda = 0.6169905643587617\n",
      "adj r2 for this lamda = 0.5919698474575752\n",
      "------------------\n",
      "lamda = 0.005555555555555556\n",
      "mae for this lamda = 4555081.2681456385\n",
      "r2 for this lamda = 0.616990564419533\n",
      "adj r2 for this lamda = 0.5919698475223166\n",
      "------------------\n",
      "lamda = 0.011111111111111112\n",
      "mae for this lamda = 4555081.26867435\n",
      "r2 for this lamda = 0.6169905644801963\n",
      "adj r2 for this lamda = 0.5919698475869428\n",
      "------------------\n",
      "lamda = 0.016666666666666666\n",
      "mae for this lamda = 4555081.269196052\n",
      "r2 for this lamda = 0.6169905645404321\n",
      "adj r2 for this lamda = 0.5919698476511136\n",
      "------------------\n",
      "lamda = 0.022222222222222223\n",
      "mae for this lamda = 4555081.2697263155\n",
      "r2 for this lamda = 0.6169905646013389\n",
      "adj r2 for this lamda = 0.5919698477159994\n",
      "------------------\n",
      "lamda = 0.02777777777777778\n",
      "mae for this lamda = 4555081.270256581\n",
      "r2 for this lamda = 0.6169905646622456\n",
      "adj r2 for this lamda = 0.5919698477808847\n",
      "------------------\n",
      "lamda = 0.03333333333333333\n",
      "mae for this lamda = 4555081.270786845\n",
      "r2 for this lamda = 0.6169905647231524\n",
      "adj r2 for this lamda = 0.5919698478457704\n",
      "------------------\n",
      "lamda = 0.03888888888888889\n",
      "mae for this lamda = 4555081.271317109\n",
      "r2 for this lamda = 0.6169905647840591\n",
      "adj r2 for this lamda = 0.5919698479106559\n",
      "------------------\n",
      "lamda = 0.044444444444444446\n",
      "mae for this lamda = 4555081.271847374\n",
      "r2 for this lamda = 0.6169905648449657\n",
      "adj r2 for this lamda = 0.5919698479755414\n",
      "------------------\n",
      "lamda = 0.05\n",
      "mae for this lamda = 4555081.272377637\n",
      "r2 for this lamda = 0.6169905649058725\n",
      "adj r2 for this lamda = 0.591969848040427\n",
      "------------------\n",
      "Best value of lamda = 0.05\n",
      "Best value of MAE for above lamda = 4555081.267616047\n",
      "Best value of r2 for above lamda = 0.6169905649058725\n",
      "Best value of adjr2 for above lamda = 0.591969848040427\n"
     ]
    },
    {
     "name": "stderr",
     "output_type": "stream",
     "text": [
      "C:\\Users\\piyus\\AppData\\Local\\Temp\\ipykernel_18956\\3398097855.py:16: UserWarning: With alpha=0, this algorithm does not converge well. You are advised to use the LinearRegression estimator\n",
      "  LRM.fit(X_train,y_train)\n",
      "C:\\Users\\piyus\\anaconda3\\lib\\site-packages\\sklearn\\linear_model\\_coordinate_descent.py:647: UserWarning: Coordinate descent with no regularization may lead to unexpected results and is discouraged.\n",
      "  model = cd_fast.enet_coordinate_descent(\n",
      "C:\\Users\\piyus\\anaconda3\\lib\\site-packages\\sklearn\\linear_model\\_coordinate_descent.py:647: ConvergenceWarning: Objective did not converge. You might want to increase the number of iterations, check the scale of the features or consider increasing regularisation. Duality gap: 1.781e+16, tolerance: 1.012e+13 Linear regression models with null weight for the l1 regularization term are more efficiently fitted using one of the solvers implemented in sklearn.linear_model.Ridge/RidgeCV instead.\n",
      "  model = cd_fast.enet_coordinate_descent(\n"
     ]
    }
   ],
   "source": [
    "from sklearn.linear_model import Lasso\n",
    "\n",
    "#lamda = np.linspace(0,100,20)\n",
    "# lamda = np.linspace(0,1,20)\n",
    "lamda = np.linspace(0,0.05,10)\n",
    "\n",
    "display(lamda)\n",
    "\n",
    "best_lamda = 0\n",
    "best_mae = mae\n",
    "best_r2 = r2\n",
    "best_adjr2 = adjusted_r2\n",
    "\n",
    "for param in lamda:\n",
    "    LRM = Lasso(alpha = param)\n",
    "    LRM.fit(X_train,y_train)\n",
    "\n",
    "    y_pred = LRM.predict(X_test)\n",
    "    \n",
    "    mae = mean_absolute_error(y_test,y_pred)\n",
    "    r2  = r2_score(y_test, y_pred)\n",
    "    adjusted_r2 = 1 - (1-r2) * (len(y_test)-1) / (len(y_test)-X_test.shape[1]-1)\n",
    "    \n",
    "    print(\"lamda =\",param)\n",
    "    print(\"mae for this lamda =\", mae)\n",
    "    print(\"r2 for this lamda =\", r2)\n",
    "    print(\"adj r2 for this lamda =\", adjusted_r2)\n",
    "    print (\"------------------\")\n",
    "\n",
    "    if(mae<best_mae):\n",
    "        best_mae = mae\n",
    "        best_lamda = param\n",
    "\n",
    "    if(r2>best_r2):\n",
    "        best_r2 = r2\n",
    "        best_lamda = param\n",
    "    if(adjusted_r2>best_adjr2):\n",
    "        best_adjr2 = adjusted_r2\n",
    "        best_lamda = param\n",
    "\n",
    "print (\"Best value of lamda =\",best_lamda)\n",
    "print (\"Best value of MAE for above lamda =\",best_mae)\n",
    "print (\"Best value of r2 for above lamda =\",best_r2)\n",
    "print (\"Best value of adjr2 for above lamda =\",best_adjr2)"
   ]
  },
  {
   "cell_type": "code",
   "execution_count": null,
   "id": "f2fbfa83",
   "metadata": {},
   "outputs": [],
   "source": []
  }
 ],
 "metadata": {
  "kernelspec": {
   "display_name": "Python 3 (ipykernel)",
   "language": "python",
   "name": "python3"
  },
  "language_info": {
   "codemirror_mode": {
    "name": "ipython",
    "version": 3
   },
   "file_extension": ".py",
   "mimetype": "text/x-python",
   "name": "python",
   "nbconvert_exporter": "python",
   "pygments_lexer": "ipython3",
   "version": "3.9.12"
  }
 },
 "nbformat": 4,
 "nbformat_minor": 5
}
