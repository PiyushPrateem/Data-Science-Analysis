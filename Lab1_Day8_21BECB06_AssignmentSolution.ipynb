{
 "cells": [
  {
   "cell_type": "markdown",
   "id": "5571da90",
   "metadata": {},
   "source": [
    "# 1.\tFirstly, replace all Missing values with relevant figures."
   ]
  },
  {
   "cell_type": "code",
   "execution_count": 16,
   "id": "7939272e",
   "metadata": {},
   "outputs": [
    {
     "data": {
      "text/html": [
       "<div>\n",
       "<style scoped>\n",
       "    .dataframe tbody tr th:only-of-type {\n",
       "        vertical-align: middle;\n",
       "    }\n",
       "\n",
       "    .dataframe tbody tr th {\n",
       "        vertical-align: top;\n",
       "    }\n",
       "\n",
       "    .dataframe thead th {\n",
       "        text-align: right;\n",
       "    }\n",
       "</style>\n",
       "<table border=\"1\" class=\"dataframe\">\n",
       "  <thead>\n",
       "    <tr style=\"text-align: right;\">\n",
       "      <th></th>\n",
       "      <th>Pregnancies</th>\n",
       "      <th>Glucose</th>\n",
       "      <th>BloodPressure</th>\n",
       "      <th>BMI</th>\n",
       "      <th>DiabetesPedigreeFunction</th>\n",
       "      <th>Age</th>\n",
       "      <th>Outcome</th>\n",
       "    </tr>\n",
       "  </thead>\n",
       "  <tbody>\n",
       "    <tr>\n",
       "      <th>0</th>\n",
       "      <td>6</td>\n",
       "      <td>148</td>\n",
       "      <td>72</td>\n",
       "      <td>33.6</td>\n",
       "      <td>0.627</td>\n",
       "      <td>50</td>\n",
       "      <td>1</td>\n",
       "    </tr>\n",
       "    <tr>\n",
       "      <th>1</th>\n",
       "      <td>1</td>\n",
       "      <td>85</td>\n",
       "      <td>66</td>\n",
       "      <td>26.6</td>\n",
       "      <td>0.351</td>\n",
       "      <td>31</td>\n",
       "      <td>0</td>\n",
       "    </tr>\n",
       "    <tr>\n",
       "      <th>2</th>\n",
       "      <td>8</td>\n",
       "      <td>183</td>\n",
       "      <td>64</td>\n",
       "      <td>23.3</td>\n",
       "      <td>0.672</td>\n",
       "      <td>32</td>\n",
       "      <td>1</td>\n",
       "    </tr>\n",
       "    <tr>\n",
       "      <th>3</th>\n",
       "      <td>1</td>\n",
       "      <td>89</td>\n",
       "      <td>66</td>\n",
       "      <td>28.1</td>\n",
       "      <td>0.167</td>\n",
       "      <td>21</td>\n",
       "      <td>0</td>\n",
       "    </tr>\n",
       "    <tr>\n",
       "      <th>4</th>\n",
       "      <td>0</td>\n",
       "      <td>137</td>\n",
       "      <td>40</td>\n",
       "      <td>43.1</td>\n",
       "      <td>2.288</td>\n",
       "      <td>33</td>\n",
       "      <td>1</td>\n",
       "    </tr>\n",
       "  </tbody>\n",
       "</table>\n",
       "</div>"
      ],
      "text/plain": [
       "   Pregnancies  Glucose  BloodPressure   BMI  DiabetesPedigreeFunction  Age  \\\n",
       "0            6      148             72  33.6                     0.627   50   \n",
       "1            1       85             66  26.6                     0.351   31   \n",
       "2            8      183             64  23.3                     0.672   32   \n",
       "3            1       89             66  28.1                     0.167   21   \n",
       "4            0      137             40  43.1                     2.288   33   \n",
       "\n",
       "   Outcome  \n",
       "0        1  \n",
       "1        0  \n",
       "2        1  \n",
       "3        0  \n",
       "4        1  "
      ]
     },
     "metadata": {},
     "output_type": "display_data"
    },
    {
     "name": "stdout",
     "output_type": "stream",
     "text": [
      "<class 'pandas.core.frame.DataFrame'>\n",
      "RangeIndex: 768 entries, 0 to 767\n",
      "Data columns (total 7 columns):\n",
      " #   Column                    Non-Null Count  Dtype  \n",
      "---  ------                    --------------  -----  \n",
      " 0   Pregnancies               768 non-null    int64  \n",
      " 1   Glucose                   768 non-null    int64  \n",
      " 2   BloodPressure             768 non-null    int64  \n",
      " 3   BMI                       768 non-null    float64\n",
      " 4   DiabetesPedigreeFunction  768 non-null    float64\n",
      " 5   Age                       768 non-null    int64  \n",
      " 6   Outcome                   768 non-null    int64  \n",
      "dtypes: float64(2), int64(5)\n",
      "memory usage: 42.1 KB\n"
     ]
    },
    {
     "data": {
      "text/plain": [
       "None"
      ]
     },
     "metadata": {},
     "output_type": "display_data"
    }
   ],
   "source": [
    "import pandas as pd\n",
    "import seaborn as sns\n",
    "import numpy as np\n",
    "import matplotlib.pyplot as plt\n",
    "\n",
    "df =pd.read_csv(\"Dataset_Day8.csv\")\n",
    "\n",
    "display(df.head())\n",
    "display(df.info())"
   ]
  },
  {
   "cell_type": "code",
   "execution_count": 17,
   "id": "62122880",
   "metadata": {},
   "outputs": [
    {
     "name": "stdout",
     "output_type": "stream",
     "text": [
      "% of Missing values in\n",
      "Glucose                     0.651042\n",
      "BloodPressure               4.557292\n",
      "BMI                         1.432292\n",
      "DiabetesPedigreeFunction    0.000000\n",
      "dtype: float64\n"
     ]
    }
   ],
   "source": [
    "#Displaying missing values\n",
    "Missing_value= (df[[\"Glucose\",\"BloodPressure\",\"BMI\",\"DiabetesPedigreeFunction\"]] == 0).sum()\n",
    "print(\"% of Missing values in\")\n",
    "print(Missing_value/len(df)*100)"
   ]
  },
  {
   "cell_type": "code",
   "execution_count": 18,
   "id": "ee309f84",
   "metadata": {},
   "outputs": [],
   "source": [
    "# Replace missing values with median\n",
    "df['Glucose'] = df['Glucose'].fillna(df['Glucose'].median())\n",
    "df['BloodPressure'] = df['BloodPressure'].fillna(df['BloodPressure'].median())\n",
    "df['BMI'] = df['BMI'].fillna(df['BMI'].median())\n",
    "df_Nomv=df\n",
    "dfx=df"
   ]
  },
  {
   "cell_type": "markdown",
   "id": "38b838ce",
   "metadata": {},
   "source": [
    "# 2.\tThen remove all existing outliers and get the final data for classification"
   ]
  },
  {
   "cell_type": "code",
   "execution_count": 6,
   "id": "34200af7",
   "metadata": {},
   "outputs": [
    {
     "name": "stdout",
     "output_type": "stream",
     "text": [
      "Original dataset shape: (768, 7)\n",
      "Cleaned dataset shape: (720, 7)\n"
     ]
    }
   ],
   "source": [
    "def remove_outliers(df,columns):\n",
    "    Q1= df[columns].quantile(0.25)\n",
    "    Q3= df[columns].quantile(0.75)\n",
    "    IQR= Q3 - Q1\n",
    "    df_clean = df[~((df[columns] < (Q1 - 1.5 * IQR)) |(df[columns] > (Q3 + 1.5 * IQR))).any(axis=1)]\n",
    "    return df_clean\n",
    "\n",
    "columns_to_check = ['Glucose', 'BloodPressure', 'BMI', 'DiabetesPedigreeFunction']\n",
    "data_clean = remove_outliers(data, columns_to_check)\n",
    "\n",
    "print(\"Original dataset shape:\", data.shape)\n",
    "print(\"Cleaned dataset shape:\", data_clean.shape)"
   ]
  },
  {
   "cell_type": "markdown",
   "id": "dd32f72d",
   "metadata": {},
   "source": [
    "# 3.\tSplit the data into 70% training and 30% testing data. Then, use a k-Nearest Neighbor algorithm with target variable as ‘Outcome’."
   ]
  },
  {
   "cell_type": "code",
   "execution_count": 19,
   "id": "8b5561f1",
   "metadata": {},
   "outputs": [
    {
     "name": "stdout",
     "output_type": "stream",
     "text": [
      "starting value of k is taken as  23\n"
     ]
    }
   ],
   "source": [
    "from sklearn.model_selection import train_test_split\n",
    "from sklearn.neighbors import KNeighborsClassifier\n",
    "from sklearn.metrics import accuracy_score,precision_score,recall_score,f1_score, confusion_matrix\n",
    "import math\n",
    "\n",
    "X = data.drop(columns=['Outcome'])\n",
    "y = data['Outcome']\n",
    "\n",
    "X_train,X_test,y_train,y_test=train_test_split(X,y,test_size=0.3, random_state=23)\n",
    "\n",
    "k_start = int(math.sqrt(len(X_train)))\n",
    "print(\"starting value of k is taken as \", k_start)\n",
    "metric_start = 'euclidean' \n",
    "\n",
    "knn = KNeighborsClassifier(n_neighbors = k_start, metric = metric_start)\n",
    "\n",
    "#fit the model\n",
    "knn.fit(X_train,y_train)\n",
    "\n",
    "#predict using model\n",
    "y_pred = knn.predict(X_test)"
   ]
  },
  {
   "cell_type": "markdown",
   "id": "cec22058",
   "metadata": {},
   "source": [
    "# a.\tPrint the default model performance metrics: Accuracy, Precision, Recall, F1Score"
   ]
  },
  {
   "cell_type": "code",
   "execution_count": 20,
   "id": "298d7af1",
   "metadata": {},
   "outputs": [
    {
     "name": "stdout",
     "output_type": "stream",
     "text": [
      "Model performance for starting value of k are obtained as below,\n",
      "\n",
      "Accuracy is 0.7402597402597403\n",
      "Precision is 0.6825396825396826\n",
      "Recall is 0.5180722891566265\n",
      "F1_score is 0.589041095890411\n"
     ]
    }
   ],
   "source": [
    "print(\"Model performance for starting value of k are obtained as below,\\n\")\n",
    "print(\"Accuracy is\", accuracy_score(y_test,y_pred))\n",
    "print(\"Precision is\",precision_score(y_test,y_pred))\n",
    "print(\"Recall is\", recall_score(y_test,y_pred))\n",
    "print(\"F1_score is\", f1_score(y_test,y_pred))"
   ]
  },
  {
   "cell_type": "markdown",
   "id": "a481741a",
   "metadata": {},
   "source": [
    "# b.\tPlot a Precision & Recall vs k(no. of neighbours) curve (both Prec and Rec on the same graph). Find the k for which F1-score is the highest. Use any one Distance Metric for this problem."
   ]
  },
  {
   "cell_type": "code",
   "execution_count": 21,
   "id": "c0c7912a",
   "metadata": {},
   "outputs": [
    {
     "data": {
      "image/png": "[encoded data removed]",
      "text/plain": [
       "<Figure size 864x432 with 1 Axes>"
      ]
     },
     "metadata": {
      "needs_background": "light"
     },
     "output_type": "display_data"
    },
    {
     "name": "stdout",
     "output_type": "stream",
     "text": [
      "The best k value is 15 with an F1-score of 0.6443\n"
     ]
    }
   ],
   "source": [
    "# Initialize lists to store metrics\n",
    "k_values = list(range(1, 21))\n",
    "precision_scores = []\n",
    "recall_scores = []\n",
    "f1_scores = []\n",
    "\n",
    "for k in k_values:\n",
    "    knn = KNeighborsClassifier(n_neighbors=k, metric=metric_start)\n",
    "    knn.fit(X_train, y_train)\n",
    "    y_pred = knn.predict(X_test)\n",
    "    \n",
    "    precision = precision_score(y_test, y_pred)\n",
    "    recall = recall_score(y_test, y_pred)\n",
    "    f1 = f1_score(y_test, y_pred)\n",
    "    \n",
    "    precision_scores.append(precision)\n",
    "    recall_scores.append(recall)\n",
    "    f1_scores.append(f1)\n",
    "\n",
    "# Plot Precision and Recall vs k\n",
    "plt.figure(figsize=(12, 6))\n",
    "plt.plot(k_values, precision_scores, label='Precision', marker='o')\n",
    "plt.plot(k_values, recall_scores, label='Recall', marker='o')\n",
    "plt.xlabel('Number of Neighbors (k)')\n",
    "plt.ylabel('Score')\n",
    "plt.title('Precision & Recall vs Number of Neighbors (k)')\n",
    "plt.legend()\n",
    "plt.grid()\n",
    "plt.show()\n",
    "\n",
    "# Find the k for which F1-score is highest\n",
    "best_k = k_values[np.argmax(f1_scores)]\n",
    "best_f1 = max(f1_scores)\n",
    "\n",
    "print(f\"The best k value is {best_k} with an F1-score of {best_f1:.4f}\")"
   ]
  },
  {
   "cell_type": "code",
   "execution_count": null,
   "id": "7cd2b4ff",
   "metadata": {},
   "outputs": [],
   "source": [
    "# Observations\n",
    "\n",
    " Precision is high i.e generally above 0.65\n",
    "\n",
    " Precision has less fluctuation\n",
    "\n",
    " Recall has more fluctuation and ranges from 0.35 to 0.50\n",
    "\n",
    " Best k value is 15 "
   ]
  },
  {
   "cell_type": "markdown",
   "id": "43eae887",
   "metadata": {},
   "source": [
    "# c.\tFind the best distance metric, no. of neighbors combination for the kNN algorithm. (do not plot any curve)"
   ]
  },
  {
   "cell_type": "code",
   "execution_count": 22,
   "id": "fad3558b",
   "metadata": {},
   "outputs": [
    {
     "data": {
      "text/html": [
       "<div>\n",
       "<style scoped>\n",
       "    .dataframe tbody tr th:only-of-type {\n",
       "        vertical-align: middle;\n",
       "    }\n",
       "\n",
       "    .dataframe tbody tr th {\n",
       "        vertical-align: top;\n",
       "    }\n",
       "\n",
       "    .dataframe thead th {\n",
       "        text-align: right;\n",
       "    }\n",
       "</style>\n",
       "<table border=\"1\" class=\"dataframe\">\n",
       "  <thead>\n",
       "    <tr style=\"text-align: right;\">\n",
       "      <th></th>\n",
       "      <th>k - Nearest Neighbors</th>\n",
       "      <th>Distance Metric</th>\n",
       "      <th>Accuracy</th>\n",
       "      <th>Precision</th>\n",
       "      <th>Recall</th>\n",
       "      <th>F1-Score</th>\n",
       "    </tr>\n",
       "  </thead>\n",
       "  <tbody>\n",
       "    <tr>\n",
       "      <th>0</th>\n",
       "      <td>4</td>\n",
       "      <td>euclidean</td>\n",
       "      <td>0.761905</td>\n",
       "      <td>0.750000</td>\n",
       "      <td>0.506024</td>\n",
       "      <td>0.604317</td>\n",
       "    </tr>\n",
       "    <tr>\n",
       "      <th>1</th>\n",
       "      <td>5</td>\n",
       "      <td>euclidean</td>\n",
       "      <td>0.753247</td>\n",
       "      <td>0.680556</td>\n",
       "      <td>0.590361</td>\n",
       "      <td>0.632258</td>\n",
       "    </tr>\n",
       "    <tr>\n",
       "      <th>2</th>\n",
       "      <td>6</td>\n",
       "      <td>euclidean</td>\n",
       "      <td>0.748918</td>\n",
       "      <td>0.704918</td>\n",
       "      <td>0.518072</td>\n",
       "      <td>0.597222</td>\n",
       "    </tr>\n",
       "    <tr>\n",
       "      <th>3</th>\n",
       "      <td>7</td>\n",
       "      <td>euclidean</td>\n",
       "      <td>0.744589</td>\n",
       "      <td>0.666667</td>\n",
       "      <td>0.578313</td>\n",
       "      <td>0.619355</td>\n",
       "    </tr>\n",
       "    <tr>\n",
       "      <th>4</th>\n",
       "      <td>8</td>\n",
       "      <td>euclidean</td>\n",
       "      <td>0.757576</td>\n",
       "      <td>0.728814</td>\n",
       "      <td>0.518072</td>\n",
       "      <td>0.605634</td>\n",
       "    </tr>\n",
       "    <tr>\n",
       "      <th>...</th>\n",
       "      <td>...</td>\n",
       "      <td>...</td>\n",
       "      <td>...</td>\n",
       "      <td>...</td>\n",
       "      <td>...</td>\n",
       "      <td>...</td>\n",
       "    </tr>\n",
       "    <tr>\n",
       "      <th>259</th>\n",
       "      <td>263</td>\n",
       "      <td>euclidean</td>\n",
       "      <td>0.740260</td>\n",
       "      <td>0.744681</td>\n",
       "      <td>0.421687</td>\n",
       "      <td>0.538462</td>\n",
       "    </tr>\n",
       "    <tr>\n",
       "      <th>260</th>\n",
       "      <td>264</td>\n",
       "      <td>euclidean</td>\n",
       "      <td>0.740260</td>\n",
       "      <td>0.744681</td>\n",
       "      <td>0.421687</td>\n",
       "      <td>0.538462</td>\n",
       "    </tr>\n",
       "    <tr>\n",
       "      <th>261</th>\n",
       "      <td>265</td>\n",
       "      <td>euclidean</td>\n",
       "      <td>0.740260</td>\n",
       "      <td>0.744681</td>\n",
       "      <td>0.421687</td>\n",
       "      <td>0.538462</td>\n",
       "    </tr>\n",
       "    <tr>\n",
       "      <th>262</th>\n",
       "      <td>266</td>\n",
       "      <td>euclidean</td>\n",
       "      <td>0.740260</td>\n",
       "      <td>0.744681</td>\n",
       "      <td>0.421687</td>\n",
       "      <td>0.538462</td>\n",
       "    </tr>\n",
       "    <tr>\n",
       "      <th>263</th>\n",
       "      <td>267</td>\n",
       "      <td>euclidean</td>\n",
       "      <td>0.740260</td>\n",
       "      <td>0.744681</td>\n",
       "      <td>0.421687</td>\n",
       "      <td>0.538462</td>\n",
       "    </tr>\n",
       "  </tbody>\n",
       "</table>\n",
       "<p>264 rows × 6 columns</p>\n",
       "</div>"
      ],
      "text/plain": [
       "     k - Nearest Neighbors Distance Metric  Accuracy  Precision    Recall  \\\n",
       "0                        4       euclidean  0.761905   0.750000  0.506024   \n",
       "1                        5       euclidean  0.753247   0.680556  0.590361   \n",
       "2                        6       euclidean  0.748918   0.704918  0.518072   \n",
       "3                        7       euclidean  0.744589   0.666667  0.578313   \n",
       "4                        8       euclidean  0.757576   0.728814  0.518072   \n",
       "..                     ...             ...       ...        ...       ...   \n",
       "259                    263       euclidean  0.740260   0.744681  0.421687   \n",
       "260                    264       euclidean  0.740260   0.744681  0.421687   \n",
       "261                    265       euclidean  0.740260   0.744681  0.421687   \n",
       "262                    266       euclidean  0.740260   0.744681  0.421687   \n",
       "263                    267       euclidean  0.740260   0.744681  0.421687   \n",
       "\n",
       "     F1-Score  \n",
       "0    0.604317  \n",
       "1    0.632258  \n",
       "2    0.597222  \n",
       "3    0.619355  \n",
       "4    0.605634  \n",
       "..        ...  \n",
       "259  0.538462  \n",
       "260  0.538462  \n",
       "261  0.538462  \n",
       "262  0.538462  \n",
       "263  0.538462  \n",
       "\n",
       "[264 rows x 6 columns]"
      ]
     },
     "metadata": {},
     "output_type": "display_data"
    }
   ],
   "source": [
    "k_values = np.arange(4,int(len(X_train)/2),1)\n",
    "\n",
    "metric_values = ['euclidean']\n",
    "\n",
    "PerfMatrix = []\n",
    "for dist in metric_values:\n",
    "    for k in k_values:\n",
    "\n",
    "        knn = KNeighborsClassifier(n_neighbors = k, metric = dist)\n",
    "        knn = knn.fit(X_train,y_train)\n",
    "        y_pred = knn.predict(X_test)\n",
    "\n",
    "        row = [k,dist,accuracy_score(y_test,y_pred),precision_score(y_test,y_pred),recall_score(y_test,y_pred),f1_score(y_test,y_pred)]\n",
    "        PerfMatrix.append(row)\n",
    "\n",
    "PerfMatrix = pd.DataFrame(PerfMatrix,columns=['k - Nearest Neighbors','Distance Metric','Accuracy','Precision','Recall','F1-Score'])\n",
    "display(PerfMatrix)"
   ]
  },
  {
   "cell_type": "code",
   "execution_count": 12,
   "id": "ae3f94cc",
   "metadata": {},
   "outputs": [
    {
     "data": {
      "text/html": [
       "<div>\n",
       "<style scoped>\n",
       "    .dataframe tbody tr th:only-of-type {\n",
       "        vertical-align: middle;\n",
       "    }\n",
       "\n",
       "    .dataframe tbody tr th {\n",
       "        vertical-align: top;\n",
       "    }\n",
       "\n",
       "    .dataframe thead th {\n",
       "        text-align: right;\n",
       "    }\n",
       "</style>\n",
       "<table border=\"1\" class=\"dataframe\">\n",
       "  <thead>\n",
       "    <tr style=\"text-align: right;\">\n",
       "      <th></th>\n",
       "      <th>k - Nearest Neighbors</th>\n",
       "      <th>Distance Metric</th>\n",
       "      <th>Accuracy</th>\n",
       "      <th>Precision</th>\n",
       "      <th>Recall</th>\n",
       "      <th>F1-Score</th>\n",
       "    </tr>\n",
       "  </thead>\n",
       "  <tbody>\n",
       "    <tr>\n",
       "      <th>11</th>\n",
       "      <td>15</td>\n",
       "      <td>euclidean</td>\n",
       "      <td>0.770563</td>\n",
       "      <td>0.727273</td>\n",
       "      <td>0.578313</td>\n",
       "      <td>0.644295</td>\n",
       "    </tr>\n",
       "  </tbody>\n",
       "</table>\n",
       "</div>"
      ],
      "text/plain": [
       "    k - Nearest Neighbors Distance Metric  Accuracy  Precision    Recall  \\\n",
       "11                     15       euclidean  0.770563   0.727273  0.578313   \n",
       "\n",
       "    F1-Score  \n",
       "11  0.644295  "
      ]
     },
     "execution_count": 12,
     "metadata": {},
     "output_type": "execute_result"
    }
   ],
   "source": [
    "idx = PerfMatrix[PerfMatrix['F1-Score'] == PerfMatrix['F1-Score'].max()].index\n",
    "PerfMatrix.loc[idx]"
   ]
  },
  {
   "cell_type": "markdown",
   "id": "a726fe4b",
   "metadata": {},
   "source": [
    "# Observations\n",
    "\n",
    "k-Value: The model uses 15 nearest neighbors (k=15).\n",
    "\n",
    " Distance Metric: Euclidean distance is used as the metric for measuring similarity.\n",
    "\n",
    " Accuracy: The model achieves an accuracy of 0.770563, indicating it correctly predicts about 77% of the instances.\n",
    "\n",
    " recision: The precision is 0.727273, showing that 72.72% of the predicted positive instances are correct.\n",
    "\n",
    " Recall: The recall is 0.578313, meaning the model correctly identifies 57.83% of all actual positive instances.\n",
    "\n",
    " F1-Score: The F1-score is 0.644295, which balances precision and recall, indicating moderate overall performance."
   ]
  },
  {
   "cell_type": "code",
   "execution_count": 23,
   "id": "f4f8c01e",
   "metadata": {},
   "outputs": [
    {
     "name": "stderr",
     "output_type": "stream",
     "text": [
      "C:\\Users\\piyus\\anaconda3\\lib\\site-packages\\sklearn\\metrics\\_classification.py:1318: UndefinedMetricWarning: Precision is ill-defined and being set to 0.0 due to no predicted samples. Use `zero_division` parameter to control this behavior.\n",
      "  _warn_prf(average, modifier, msg_start, len(result))\n",
      "C:\\Users\\piyus\\anaconda3\\lib\\site-packages\\sklearn\\metrics\\_classification.py:1318: UndefinedMetricWarning: Precision is ill-defined and being set to 0.0 due to no predicted samples. Use `zero_division` parameter to control this behavior.\n",
      "  _warn_prf(average, modifier, msg_start, len(result))\n",
      "C:\\Users\\piyus\\anaconda3\\lib\\site-packages\\sklearn\\metrics\\_classification.py:1318: UndefinedMetricWarning: Precision is ill-defined and being set to 0.0 due to no predicted samples. Use `zero_division` parameter to control this behavior.\n",
      "  _warn_prf(average, modifier, msg_start, len(result))\n",
      "C:\\Users\\piyus\\anaconda3\\lib\\site-packages\\sklearn\\metrics\\_classification.py:1318: UndefinedMetricWarning: Precision is ill-defined and being set to 0.0 due to no predicted samples. Use `zero_division` parameter to control this behavior.\n",
      "  _warn_prf(average, modifier, msg_start, len(result))\n",
      "C:\\Users\\piyus\\anaconda3\\lib\\site-packages\\sklearn\\metrics\\_classification.py:1318: UndefinedMetricWarning: Precision is ill-defined and being set to 0.0 due to no predicted samples. Use `zero_division` parameter to control this behavior.\n",
      "  _warn_prf(average, modifier, msg_start, len(result))\n",
      "C:\\Users\\piyus\\anaconda3\\lib\\site-packages\\sklearn\\metrics\\_classification.py:1318: UndefinedMetricWarning: Precision is ill-defined and being set to 0.0 due to no predicted samples. Use `zero_division` parameter to control this behavior.\n",
      "  _warn_prf(average, modifier, msg_start, len(result))\n",
      "C:\\Users\\piyus\\anaconda3\\lib\\site-packages\\sklearn\\metrics\\_classification.py:1318: UndefinedMetricWarning: Precision is ill-defined and being set to 0.0 due to no predicted samples. Use `zero_division` parameter to control this behavior.\n",
      "  _warn_prf(average, modifier, msg_start, len(result))\n",
      "C:\\Users\\piyus\\anaconda3\\lib\\site-packages\\sklearn\\metrics\\_classification.py:1318: UndefinedMetricWarning: Precision is ill-defined and being set to 0.0 due to no predicted samples. Use `zero_division` parameter to control this behavior.\n",
      "  _warn_prf(average, modifier, msg_start, len(result))\n",
      "C:\\Users\\piyus\\anaconda3\\lib\\site-packages\\sklearn\\metrics\\_classification.py:1318: UndefinedMetricWarning: Precision is ill-defined and being set to 0.0 due to no predicted samples. Use `zero_division` parameter to control this behavior.\n",
      "  _warn_prf(average, modifier, msg_start, len(result))\n",
      "C:\\Users\\piyus\\anaconda3\\lib\\site-packages\\sklearn\\metrics\\_classification.py:1318: UndefinedMetricWarning: Precision is ill-defined and being set to 0.0 due to no predicted samples. Use `zero_division` parameter to control this behavior.\n",
      "  _warn_prf(average, modifier, msg_start, len(result))\n",
      "C:\\Users\\piyus\\anaconda3\\lib\\site-packages\\sklearn\\metrics\\_classification.py:1318: UndefinedMetricWarning: Precision is ill-defined and being set to 0.0 due to no predicted samples. Use `zero_division` parameter to control this behavior.\n",
      "  _warn_prf(average, modifier, msg_start, len(result))\n",
      "C:\\Users\\piyus\\anaconda3\\lib\\site-packages\\sklearn\\metrics\\_classification.py:1318: UndefinedMetricWarning: Precision is ill-defined and being set to 0.0 due to no predicted samples. Use `zero_division` parameter to control this behavior.\n",
      "  _warn_prf(average, modifier, msg_start, len(result))\n",
      "C:\\Users\\piyus\\anaconda3\\lib\\site-packages\\sklearn\\metrics\\_classification.py:1318: UndefinedMetricWarning: Precision is ill-defined and being set to 0.0 due to no predicted samples. Use `zero_division` parameter to control this behavior.\n",
      "  _warn_prf(average, modifier, msg_start, len(result))\n",
      "C:\\Users\\piyus\\anaconda3\\lib\\site-packages\\sklearn\\metrics\\_classification.py:1318: UndefinedMetricWarning: Precision is ill-defined and being set to 0.0 due to no predicted samples. Use `zero_division` parameter to control this behavior.\n",
      "  _warn_prf(average, modifier, msg_start, len(result))\n",
      "C:\\Users\\piyus\\anaconda3\\lib\\site-packages\\sklearn\\metrics\\_classification.py:1318: UndefinedMetricWarning: Precision is ill-defined and being set to 0.0 due to no predicted samples. Use `zero_division` parameter to control this behavior.\n",
      "  _warn_prf(average, modifier, msg_start, len(result))\n"
     ]
    },
    {
     "data": {
      "text/html": [
       "<div>\n",
       "<style scoped>\n",
       "    .dataframe tbody tr th:only-of-type {\n",
       "        vertical-align: middle;\n",
       "    }\n",
       "\n",
       "    .dataframe tbody tr th {\n",
       "        vertical-align: top;\n",
       "    }\n",
       "\n",
       "    .dataframe thead th {\n",
       "        text-align: right;\n",
       "    }\n",
       "</style>\n",
       "<table border=\"1\" class=\"dataframe\">\n",
       "  <thead>\n",
       "    <tr style=\"text-align: right;\">\n",
       "      <th></th>\n",
       "      <th>k - Nearest Neighbors</th>\n",
       "      <th>Distance Metric</th>\n",
       "      <th>Accuracy</th>\n",
       "      <th>Precision</th>\n",
       "      <th>Recall</th>\n",
       "      <th>F1-Score</th>\n",
       "    </tr>\n",
       "  </thead>\n",
       "  <tbody>\n",
       "    <tr>\n",
       "      <th>0</th>\n",
       "      <td>4</td>\n",
       "      <td>cosine</td>\n",
       "      <td>0.688312</td>\n",
       "      <td>0.648649</td>\n",
       "      <td>0.289157</td>\n",
       "      <td>0.400000</td>\n",
       "    </tr>\n",
       "    <tr>\n",
       "      <th>1</th>\n",
       "      <td>5</td>\n",
       "      <td>cosine</td>\n",
       "      <td>0.701299</td>\n",
       "      <td>0.625000</td>\n",
       "      <td>0.421687</td>\n",
       "      <td>0.503597</td>\n",
       "    </tr>\n",
       "    <tr>\n",
       "      <th>2</th>\n",
       "      <td>6</td>\n",
       "      <td>cosine</td>\n",
       "      <td>0.688312</td>\n",
       "      <td>0.634146</td>\n",
       "      <td>0.313253</td>\n",
       "      <td>0.419355</td>\n",
       "    </tr>\n",
       "    <tr>\n",
       "      <th>3</th>\n",
       "      <td>7</td>\n",
       "      <td>cosine</td>\n",
       "      <td>0.705628</td>\n",
       "      <td>0.627119</td>\n",
       "      <td>0.445783</td>\n",
       "      <td>0.521127</td>\n",
       "    </tr>\n",
       "    <tr>\n",
       "      <th>4</th>\n",
       "      <td>8</td>\n",
       "      <td>cosine</td>\n",
       "      <td>0.696970</td>\n",
       "      <td>0.675676</td>\n",
       "      <td>0.301205</td>\n",
       "      <td>0.416667</td>\n",
       "    </tr>\n",
       "  </tbody>\n",
       "</table>\n",
       "</div>"
      ],
      "text/plain": [
       "   k - Nearest Neighbors Distance Metric  Accuracy  Precision    Recall  \\\n",
       "0                      4          cosine  0.688312   0.648649  0.289157   \n",
       "1                      5          cosine  0.701299   0.625000  0.421687   \n",
       "2                      6          cosine  0.688312   0.634146  0.313253   \n",
       "3                      7          cosine  0.705628   0.627119  0.445783   \n",
       "4                      8          cosine  0.696970   0.675676  0.301205   \n",
       "\n",
       "   F1-Score  \n",
       "0  0.400000  \n",
       "1  0.503597  \n",
       "2  0.419355  \n",
       "3  0.521127  \n",
       "4  0.416667  "
      ]
     },
     "metadata": {},
     "output_type": "display_data"
    }
   ],
   "source": [
    "k_values = np.arange(4,int(len(X_train)/2),1)\n",
    "\n",
    "metric_values = ['cosine']\n",
    "\n",
    "PerfMatrix = []\n",
    "for dist in metric_values:\n",
    "    for k in k_values:\n",
    "\n",
    "        knn = KNeighborsClassifier(n_neighbors = k, metric = dist)\n",
    "        knn = knn.fit(X_train,y_train)\n",
    "        y_pred = knn.predict(X_test)\n",
    "\n",
    "        row = [k,dist,accuracy_score(y_test,y_pred),precision_score(y_test,y_pred),recall_score(y_test,y_pred),f1_score(y_test,y_pred)]\n",
    "        PerfMatrix.append(row)\n",
    "\n",
    "PerfMatrix = pd.DataFrame(PerfMatrix,columns=['k - Nearest Neighbors','Distance Metric','Accuracy','Precision','Recall','F1-Score'])\n",
    "display(PerfMatrix.head())"
   ]
  },
  {
   "cell_type": "code",
   "execution_count": 24,
   "id": "72c22ff2",
   "metadata": {},
   "outputs": [
    {
     "data": {
      "text/html": [
       "<div>\n",
       "<style scoped>\n",
       "    .dataframe tbody tr th:only-of-type {\n",
       "        vertical-align: middle;\n",
       "    }\n",
       "\n",
       "    .dataframe tbody tr th {\n",
       "        vertical-align: top;\n",
       "    }\n",
       "\n",
       "    .dataframe thead th {\n",
       "        text-align: right;\n",
       "    }\n",
       "</style>\n",
       "<table border=\"1\" class=\"dataframe\">\n",
       "  <thead>\n",
       "    <tr style=\"text-align: right;\">\n",
       "      <th></th>\n",
       "      <th>k - Nearest Neighbors</th>\n",
       "      <th>Distance Metric</th>\n",
       "      <th>Accuracy</th>\n",
       "      <th>Precision</th>\n",
       "      <th>Recall</th>\n",
       "      <th>F1-Score</th>\n",
       "    </tr>\n",
       "  </thead>\n",
       "  <tbody>\n",
       "    <tr>\n",
       "      <th>7</th>\n",
       "      <td>11</td>\n",
       "      <td>cosine</td>\n",
       "      <td>0.735931</td>\n",
       "      <td>0.703704</td>\n",
       "      <td>0.457831</td>\n",
       "      <td>0.554745</td>\n",
       "    </tr>\n",
       "  </tbody>\n",
       "</table>\n",
       "</div>"
      ],
      "text/plain": [
       "   k - Nearest Neighbors Distance Metric  Accuracy  Precision    Recall  \\\n",
       "7                     11          cosine  0.735931   0.703704  0.457831   \n",
       "\n",
       "   F1-Score  \n",
       "7  0.554745  "
      ]
     },
     "execution_count": 24,
     "metadata": {},
     "output_type": "execute_result"
    }
   ],
   "source": [
    "idx = PerfMatrix[PerfMatrix['F1-Score'] == PerfMatrix['F1-Score'].max()].index\n",
    "PerfMatrix.loc[idx]"
   ]
  },
  {
   "cell_type": "markdown",
   "id": "2c3332ed",
   "metadata": {},
   "source": [
    "# Observations\n",
    " k-Value: The model uses 11 nearest neighbors (k=11).\n",
    "        \n",
    " Distance Metric: Cosine distance is used as the metric for measuring similarity.\n",
    "    \n",
    " Accuracy: The model achieves an accuracy of 0.735931, indicating it correctly predicts about 73.59% of the instances.\n",
    "    \n",
    " Precision: The precision is 0.703704, showing that 70.37% of the predicted positive instances are correct.\n",
    "    \n",
    " Recall: The recall is 0.457831, meaning the model correctly identifies 45.78% of all actual positive instances.\n",
    "    \n",
    " F1-Score: The F1-score is 0.554745, which balances precision and recall, indicating moderate overall performance."
   ]
  },
  {
   "cell_type": "markdown",
   "id": "a101efc8",
   "metadata": {},
   "source": []
  }
 ],
 "metadata": {
  "kernelspec": {
   "display_name": "Python 3 (ipykernel)",
   "language": "python",
   "name": "python3"
  },
  "language_info": {
   "codemirror_mode": {
    "name": "ipython",
    "version": 3
   },
   "file_extension": ".py",
   "mimetype": "text/x-python",
   "name": "python",
   "nbconvert_exporter": "python",
   "pygments_lexer": "ipython3",
   "version": "3.9.12"
  }
 },
 "nbformat": 4,
 "nbformat_minor": 5
}
